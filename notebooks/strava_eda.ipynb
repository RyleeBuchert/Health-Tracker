{
 "cells": [
  {
   "cell_type": "code",
   "execution_count": 1,
   "metadata": {},
   "outputs": [
    {
     "data": {
      "text/plain": [
       "True"
      ]
     },
     "execution_count": 1,
     "metadata": {},
     "output_type": "execute_result"
    }
   ],
   "source": [
    "import sys\n",
    "import os\n",
    "import json\n",
    "import requests\n",
    "import pandas as pd\n",
    "\n",
    "sys.path.append(os.path.abspath('../scripts'))\n",
    "\n",
    "from strava_export import get_access_token\n",
    "from export_data import update_google_sheet\n",
    "from dotenv import load_dotenv\n",
    "\n",
    "load_dotenv()"
   ]
  },
  {
   "cell_type": "code",
   "execution_count": 2,
   "metadata": {},
   "outputs": [],
   "source": [
    "# Path for stava activities save\n",
    "DATA_PATH = f\"{os.getenv('PROJECT_PATH')}/data\"\n",
    "\n",
    "# Get the access token\n",
    "access_token = get_access_token()"
   ]
  },
  {
   "cell_type": "code",
   "execution_count": null,
   "metadata": {},
   "outputs": [],
   "source": [
    "# Use the access token to fetch activities\n",
    "activities_response = requests.get(\n",
    "    url='https://www.strava.com/api/v3/athlete/activities',\n",
    "    headers={'Authorization': f'Bearer {access_token}'}\n",
    ").json()\n",
    "\n",
    "# Save activities to json file\n",
    "with open(f'{DATA_PATH}/downloads/strava_activities.json', 'w') as f:\n",
    "    json.dump(activities_response, f, indent=4)\n",
    "    \n",
    "# Create a list of dictionaries with the required fields\n",
    "activities = pd.DataFrame([\n",
    "    {\n",
    "        'id': activity['id'],\n",
    "        'activity': activity['name'],\n",
    "        'distance': activity['distance'],\n",
    "        'moving_time': activity['moving_time'],\n",
    "        'elapsed_time': activity['elapsed_time'],\n",
    "        'date': pd.to_datetime(activity['start_date_local']).strftime('%Y-%m-%d'),\n",
    "        'average_speed': activity['average_speed'],\n",
    "        'max_speed': activity['max_speed'],\n",
    "        'has_heartrate': activity['has_heartrate'],\n",
    "        'average_heartrate': activity.get('average_heartrate', None),\n",
    "        'max_heartrate': activity.get('max_heartrate', None)\n",
    "    }\n",
    "    for activity in activities_response\n",
    "])"
   ]
  },
  {
   "cell_type": "code",
   "execution_count": null,
   "metadata": {},
   "outputs": [],
   "source": [
    "# Iterate over activities and collect calories/suffer score\n",
    "activity_info = []\n",
    "for id in activities['id']:\n",
    "    # Use the access token to fetch activities\n",
    "    activity_response = requests.get(\n",
    "        url=f'https://www.strava.com/api/v3/activities/{id}',\n",
    "        headers={'Authorization': f'Bearer {access_token}'}\n",
    "    )\n",
    "\n",
    "    # Extract calorie and suffer score entries from json response\n",
    "    activity_data = activity_response.json()\n",
    "    activity_info.append([id, activity_data.get('calories'), activity_data.get('suffer_score')])\n",
    "\n",
    "# Additional activity information\n",
    "activity_info = pd.DataFrame(activity_info, columns=['id', 'calories', 'suffer_score'])\n",
    "\n",
    "# Join with activities\n",
    "new_activities = activities.merge(activity_info, on='id', how='left')\n",
    "\n",
    "# Select relevant columns for export\n",
    "activity_columns = [\n",
    "    'activity', 'date', 'calories', 'distance', \n",
    "    'moving_time', 'elapsed_time', 'average_speed', 'max_speed', \n",
    "    'average_heartrate', 'max_heartrate', 'suffer_score'\n",
    "]\n",
    "new_activities = new_activities.loc[:, activity_columns]"
   ]
  },
  {
   "cell_type": "code",
   "execution_count": null,
   "metadata": {},
   "outputs": [],
   "source": [
    "# Save updated activities dataframe (don't overwrite previous save)\n",
    "new_activities.to_csv(f'{DATA_PATH}/strava_activities_new.csv')\n",
    "\n",
    "# Export to google sheet\n",
    "update_google_sheet(new_activities, 1)"
   ]
  }
 ],
 "metadata": {
  "kernelspec": {
   "display_name": ".venv",
   "language": "python",
   "name": "python3"
  },
  "language_info": {
   "codemirror_mode": {
    "name": "ipython",
    "version": 3
   },
   "file_extension": ".py",
   "mimetype": "text/x-python",
   "name": "python",
   "nbconvert_exporter": "python",
   "pygments_lexer": "ipython3",
   "version": "3.11.2"
  }
 },
 "nbformat": 4,
 "nbformat_minor": 2
}
