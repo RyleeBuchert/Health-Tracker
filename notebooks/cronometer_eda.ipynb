{
 "cells": [
  {
   "cell_type": "code",
   "execution_count": 1,
   "metadata": {},
   "outputs": [
    {
     "data": {
      "text/plain": [
       "True"
      ]
     },
     "execution_count": 1,
     "metadata": {},
     "output_type": "execute_result"
    }
   ],
   "source": [
    "import sys\n",
    "import os\n",
    "import requests\n",
    "import pandas as pd\n",
    "\n",
    "sys.path.append(os.path.abspath('../scripts'))\n",
    "\n",
    "from export_data import update_google_sheet\n",
    "from dotenv import load_dotenv\n",
    "\n",
    "load_dotenv()"
   ]
  },
  {
   "cell_type": "markdown",
   "metadata": {},
   "source": [
    "Ingest All Nutrition Data"
   ]
  },
  {
   "cell_type": "code",
   "execution_count": 2,
   "metadata": {},
   "outputs": [],
   "source": [
    "# Load daily summary dataset\n",
    "# - Direct 'All Time' daily nutrition data from Cronometer\n",
    "daily_nutrition = pd.read_csv(\"~/Downloads/dailysummary.csv\")\n",
    "\n",
    "# Clean dataset\n",
    "nutrition_cols = ['Date', 'Energy (kcal)', 'Protein (g)', 'Carbs (g)', 'Fat (g)', 'Added Sugars (g)', 'Sodium (mg)']\n",
    "daily_nutrition = daily_nutrition[daily_nutrition['Completed'] == True][nutrition_cols]"
   ]
  },
  {
   "cell_type": "code",
   "execution_count": 7,
   "metadata": {},
   "outputs": [],
   "source": [
    "# Save to Data folder\n",
    "daily_nutrition.to_csv(f\"{os.getenv('PROJECT_PATH')}/data/cronometer_nutrition.csv\")"
   ]
  },
  {
   "cell_type": "code",
   "execution_count": 6,
   "metadata": {},
   "outputs": [
    {
     "name": "stdout",
     "output_type": "stream",
     "text": [
      "Exporting to Google Sheets...\n"
     ]
    }
   ],
   "source": [
    "# Select the nutrition worksheet, clear, and update\n",
    "update_google_sheet(daily_nutrition, 0)"
   ]
  },
  {
   "cell_type": "markdown",
   "metadata": {},
   "source": [
    "Export Exercise Data"
   ]
  },
  {
   "cell_type": "code",
   "execution_count": 30,
   "metadata": {},
   "outputs": [],
   "source": [
    "# Load exercise dataset\n",
    "# - Direct 'All Time' exercises data from Cronometer\n",
    "daily_exercise = pd.read_csv(\"~/Downloads/exercises.csv\")\n",
    "\n",
    "# Clean data and prepare for export\n",
    "daily_exercise[\"Minutes\"] = daily_exercise[\"Minutes\"].round(3)\n",
    "daily_exercise[\"Calories Burned\"] = daily_exercise[\"Calories Burned\"].abs()\n",
    "daily_exercise.drop(\"Group\", axis=1, inplace=True)\n",
    "daily_exercise.rename(columns={\"Day\": \"Date\"}, inplace=True)\n",
    "daily_exercise.sort_values(\"Date\", inplace=True)\n",
    "daily_exercise = daily_exercise[daily_exercise['Date'] > '2024-07-10']\n",
    "daily_exercise.reset_index(drop=True, inplace=True)\n",
    "\n",
    "# Group by day and sum calories burned\n",
    "exercise = daily_exercise.copy()\n",
    "exercise = exercise.groupby(\"Date\", as_index=False)[\"Calories Burned\"].sum()\n",
    "exercise[\"Calories Burned\"] = exercise[\"Calories Burned\"].round(3)"
   ]
  },
  {
   "cell_type": "code",
   "execution_count": 32,
   "metadata": {},
   "outputs": [],
   "source": [
    "# Save to Data folder\n",
    "daily_exercise.to_csv(f\"{os.getenv('PROJECT_PATH')}/data/cronometer_exercises.csv\")"
   ]
  },
  {
   "cell_type": "code",
   "execution_count": 31,
   "metadata": {},
   "outputs": [
    {
     "name": "stdout",
     "output_type": "stream",
     "text": [
      "Exporting to Google Sheets...\n"
     ]
    }
   ],
   "source": [
    "# Select the exercise worksheet, clear, and update\n",
    "update_google_sheet(daily_exercise, 1)"
   ]
  }
 ],
 "metadata": {
  "kernelspec": {
   "display_name": ".venv",
   "language": "python",
   "name": "python3"
  },
  "language_info": {
   "codemirror_mode": {
    "name": "ipython",
    "version": 3
   },
   "file_extension": ".py",
   "mimetype": "text/x-python",
   "name": "python",
   "nbconvert_exporter": "python",
   "pygments_lexer": "ipython3",
   "version": "3.11.2"
  }
 },
 "nbformat": 4,
 "nbformat_minor": 2
}
